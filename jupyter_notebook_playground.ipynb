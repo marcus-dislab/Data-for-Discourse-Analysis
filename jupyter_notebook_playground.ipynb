{
 "cells": [
  {
   "cell_type": "markdown",
   "id": "73bdb9dd",
   "metadata": {},
   "source": [
    "## Python basics\n",
    "<br>"
   ]
  },
  {
   "cell_type": "code",
   "execution_count": 1,
   "id": "53cd791d",
   "metadata": {
    "ExecuteTime": {
     "end_time": "2022-05-07T20:52:04.799824Z",
     "start_time": "2022-05-07T20:52:04.786808Z"
    }
   },
   "outputs": [],
   "source": [
    "# the basis: variable assignment\n",
    "corpus = \"This is a very tiny corpus. But at least this tiny corpus has a second sentence.\""
   ]
  },
  {
   "cell_type": "code",
   "execution_count": 2,
   "id": "ef160a1a",
   "metadata": {
    "ExecuteTime": {
     "end_time": "2022-05-07T20:52:04.808515Z",
     "start_time": "2022-05-07T20:52:04.803114Z"
    }
   },
   "outputs": [
    {
     "name": "stdout",
     "output_type": "stream",
     "text": [
      "This is a very tiny corpus. But at least this tiny corpus has a second sentence.\n"
     ]
    }
   ],
   "source": [
    "# check the content of a variable\n",
    "print(corpus)"
   ]
  },
  {
   "cell_type": "code",
   "execution_count": 3,
   "id": "c218dec5",
   "metadata": {
    "ExecuteTime": {
     "end_time": "2022-05-07T20:52:04.834972Z",
     "start_time": "2022-05-07T20:52:04.812431Z"
    }
   },
   "outputs": [
    {
     "data": {
      "text/plain": [
       "'This is a very tiny corpus. But at least this tiny corpus has a second sentence.'"
      ]
     },
     "execution_count": 3,
     "metadata": {},
     "output_type": "execute_result"
    }
   ],
   "source": [
    "# in jupyter notebooks that's enough to print a variable - if it's the last row of a cell\n",
    "corpus"
   ]
  },
  {
   "cell_type": "code",
   "execution_count": 4,
   "id": "6786a62d",
   "metadata": {
    "ExecuteTime": {
     "end_time": "2022-05-07T20:52:04.850299Z",
     "start_time": "2022-05-07T20:52:04.836975Z"
    }
   },
   "outputs": [
    {
     "data": {
      "text/plain": [
       "str"
      ]
     },
     "execution_count": 4,
     "metadata": {},
     "output_type": "execute_result"
    }
   ],
   "source": [
    "# check the data type of any Python object (everything is an object in Python)\n",
    "type(corpus)"
   ]
  },
  {
   "cell_type": "code",
   "execution_count": 5,
   "id": "dec00201",
   "metadata": {
    "ExecuteTime": {
     "end_time": "2022-05-07T20:52:04.860481Z",
     "start_time": "2022-05-07T20:52:04.852940Z"
    }
   },
   "outputs": [
    {
     "data": {
      "text/plain": [
       "['This',\n",
       " 'is',\n",
       " 'a',\n",
       " 'very',\n",
       " 'tiny',\n",
       " 'corpus.',\n",
       " 'But',\n",
       " 'at',\n",
       " 'least',\n",
       " 'this',\n",
       " 'tiny',\n",
       " 'corpus',\n",
       " 'has',\n",
       " 'a',\n",
       " 'second',\n",
       " 'sentence.']"
      ]
     },
     "execution_count": 5,
     "metadata": {},
     "output_type": "execute_result"
    }
   ],
   "source": [
    "# objects / data types have their own methods\n",
    "tokens = corpus.split()\n",
    "tokens"
   ]
  },
  {
   "cell_type": "code",
   "execution_count": 6,
   "id": "a6dc4c4a",
   "metadata": {
    "ExecuteTime": {
     "end_time": "2022-05-07T20:52:04.877008Z",
     "start_time": "2022-05-07T20:52:04.863056Z"
    }
   },
   "outputs": [
    {
     "data": {
      "text/plain": [
       "list"
      ]
     },
     "execution_count": 6,
     "metadata": {},
     "output_type": "execute_result"
    }
   ],
   "source": [
    "# split() returns a list (as indicated by the square brackets)\n",
    "type(tokens)"
   ]
  },
  {
   "cell_type": "code",
   "execution_count": 7,
   "id": "fa93be99",
   "metadata": {
    "ExecuteTime": {
     "end_time": "2022-05-07T20:52:04.886702Z",
     "start_time": "2022-05-07T20:52:04.879222Z"
    }
   },
   "outputs": [
    {
     "data": {
      "text/plain": [
       "'is'"
      ]
     },
     "execution_count": 7,
     "metadata": {},
     "output_type": "execute_result"
    }
   ],
   "source": [
    "# iterable/sequential data types support selection and operations based on index positions\n",
    "tokens[1]"
   ]
  },
  {
   "cell_type": "code",
   "execution_count": 8,
   "id": "159d0a62",
   "metadata": {
    "ExecuteTime": {
     "end_time": "2022-05-07T20:52:04.902456Z",
     "start_time": "2022-05-07T20:52:04.890969Z"
    }
   },
   "outputs": [
    {
     "data": {
      "text/plain": [
       "['This', str]"
      ]
     },
     "execution_count": 8,
     "metadata": {},
     "output_type": "execute_result"
    }
   ],
   "source": [
    "# operations can be nested and/or concatenated\n",
    "[tokens[0], type(tokens[0])]"
   ]
  },
  {
   "cell_type": "code",
   "execution_count": 9,
   "id": "5b0d3d05",
   "metadata": {
    "ExecuteTime": {
     "end_time": "2022-05-07T20:52:04.915719Z",
     "start_time": "2022-05-07T20:52:04.907034Z"
    }
   },
   "outputs": [
    {
     "data": {
      "text/plain": [
       "'T'"
      ]
     },
     "execution_count": 9,
     "metadata": {},
     "output_type": "execute_result"
    }
   ],
   "source": [
    "# strings are iterable too\n",
    "corpus[0]"
   ]
  },
  {
   "cell_type": "code",
   "execution_count": 10,
   "id": "621cfe83",
   "metadata": {
    "ExecuteTime": {
     "end_time": "2022-05-07T20:52:04.931196Z",
     "start_time": "2022-05-07T20:52:04.921415Z"
    }
   },
   "outputs": [
    {
     "data": {
      "text/plain": [
       "'This is a very tiny corpus . But at least this tiny corpus has a second sentence .'"
      ]
     },
     "execution_count": 10,
     "metadata": {},
     "output_type": "execute_result"
    }
   ],
   "source": [
    "# use the \"replace\" method to improve our tokenization on whitespace\n",
    "corpus = corpus.replace(\".\", \" .\")\n",
    "corpus"
   ]
  },
  {
   "cell_type": "code",
   "execution_count": 11,
   "id": "df8b664b",
   "metadata": {
    "ExecuteTime": {
     "end_time": "2022-05-07T20:52:04.954578Z",
     "start_time": "2022-05-07T20:52:04.934250Z"
    }
   },
   "outputs": [
    {
     "data": {
      "text/plain": [
       "['This',\n",
       " 'is',\n",
       " 'a',\n",
       " 'very',\n",
       " 'tiny',\n",
       " 'corpus',\n",
       " '.',\n",
       " 'But',\n",
       " 'at',\n",
       " 'least',\n",
       " 'this',\n",
       " 'tiny',\n",
       " 'corpus',\n",
       " 'has',\n",
       " 'a',\n",
       " 'second',\n",
       " 'sentence',\n",
       " '.']"
      ]
     },
     "execution_count": 11,
     "metadata": {},
     "output_type": "execute_result"
    }
   ],
   "source": [
    "# now the punctuation gets splitted correctly\n",
    "tokens = corpus.split()\n",
    "tokens"
   ]
  },
  {
   "cell_type": "code",
   "execution_count": 12,
   "id": "3f7d46d2",
   "metadata": {
    "ExecuteTime": {
     "end_time": "2022-05-07T20:52:04.974436Z",
     "start_time": "2022-05-07T20:52:04.959771Z"
    }
   },
   "outputs": [
    {
     "data": {
      "text/plain": [
       "18"
      ]
     },
     "execution_count": 12,
     "metadata": {},
     "output_type": "execute_result"
    }
   ],
   "source": [
    "# the built-in method len() calculates the length of iterable data types\n",
    "token_count = len(tokens)\n",
    "token_count"
   ]
  },
  {
   "cell_type": "code",
   "execution_count": 13,
   "id": "7b721e09",
   "metadata": {
    "ExecuteTime": {
     "end_time": "2022-05-07T20:52:04.983924Z",
     "start_time": "2022-05-07T20:52:04.977537Z"
    }
   },
   "outputs": [
    {
     "data": {
      "text/plain": [
       "int"
      ]
     },
     "execution_count": 13,
     "metadata": {},
     "output_type": "execute_result"
    }
   ],
   "source": [
    "# token_count is an integer object\n",
    "type(token_count)"
   ]
  },
  {
   "cell_type": "code",
   "execution_count": 14,
   "id": "86376e8b",
   "metadata": {
    "ExecuteTime": {
     "end_time": "2022-05-07T20:52:05.002856Z",
     "start_time": "2022-05-07T20:52:04.986695Z"
    }
   },
   "outputs": [
    {
     "data": {
      "text/plain": [
       "82"
      ]
     },
     "execution_count": 14,
     "metadata": {},
     "output_type": "execute_result"
    }
   ],
   "source": [
    "# now we know that our corpus consists of 18 tokens and 82 characters\n",
    "char_count = len(corpus)\n",
    "char_count"
   ]
  },
  {
   "cell_type": "code",
   "execution_count": 15,
   "id": "c5e70014",
   "metadata": {
    "ExecuteTime": {
     "end_time": "2022-05-07T20:52:05.025123Z",
     "start_time": "2022-05-07T20:52:05.006392Z"
    }
   },
   "outputs": [
    {
     "name": "stdout",
     "output_type": "stream",
     "text": [
      "token:\tThis\n",
      "token:\tis\n",
      "token:\ta\n",
      "token:\tvery\n",
      "token:\ttiny\n",
      "token:\tcorpus\n",
      "token:\t.\n",
      "token:\tBut\n",
      "token:\tat\n",
      "token:\tleast\n",
      "token:\tthis\n",
      "token:\ttiny\n",
      "token:\tcorpus\n",
      "token:\thas\n",
      "token:\ta\n",
      "token:\tsecond\n",
      "token:\tsentence\n",
      "token:\t.\n"
     ]
    }
   ],
   "source": [
    "# with a for-loop we can access every item in a list or in other iterable data types\n",
    "for token in tokens:\n",
    "    print(\"token:\\t\" + token) # strings can be concatenated\n",
    "    #print(f\"token:\\t{token}\") # the f-string syntax does the trick as well"
   ]
  },
  {
   "cell_type": "code",
   "execution_count": 16,
   "id": "dbe302a0",
   "metadata": {
    "ExecuteTime": {
     "end_time": "2022-05-07T20:52:05.048302Z",
     "start_time": "2022-05-07T20:52:05.028041Z"
    }
   },
   "outputs": [
    {
     "data": {
      "text/plain": [
       "['This is a very tiny corpus ',\n",
       " ' But at least this tiny corpus has a second sentence ',\n",
       " '']"
      ]
     },
     "execution_count": 16,
     "metadata": {},
     "output_type": "execute_result"
    }
   ],
   "source": [
    "# let's get the sentences of our corpus\n",
    "sentences = corpus.split(\".\")\n",
    "sentences"
   ]
  },
  {
   "cell_type": "code",
   "execution_count": 17,
   "id": "ba4e8cf3",
   "metadata": {
    "ExecuteTime": {
     "end_time": "2022-05-07T20:52:05.064497Z",
     "start_time": "2022-05-07T20:52:05.051624Z"
    }
   },
   "outputs": [
    {
     "data": {
      "text/plain": [
       "['This is a very tiny corpus .',\n",
       " 'But at least this tiny corpus has a second sentence .']"
      ]
     },
     "execution_count": 17,
     "metadata": {},
     "output_type": "execute_result"
    }
   ],
   "source": [
    "# we have two tasks: get rid of the empty string and\n",
    "# append the punctuation back to the sentences\n",
    "sentences_stripped = []\n",
    "for sentence in sentences:\n",
    "    sentence = sentence.strip()\n",
    "    # with conditions we can check if a statement is true or false\n",
    "    if not sentence == \"\":\n",
    "        sentence += \" .\"\n",
    "        sentences_stripped.append(sentence)\n",
    "\n",
    "sentences_stripped"
   ]
  },
  {
   "cell_type": "code",
   "execution_count": 18,
   "id": "29031b9d",
   "metadata": {
    "ExecuteTime": {
     "end_time": "2022-05-07T20:52:05.082766Z",
     "start_time": "2022-05-07T20:52:05.066992Z"
    }
   },
   "outputs": [
    {
     "data": {
      "text/plain": [
       "dict"
      ]
     },
     "execution_count": 18,
     "metadata": {},
     "output_type": "execute_result"
    }
   ],
   "source": [
    "# dicts provide a mapping between keys and values\n",
    "token_lengths = {}\n",
    "type(token_lengths)"
   ]
  },
  {
   "cell_type": "code",
   "execution_count": 19,
   "id": "c79dd5ea",
   "metadata": {
    "ExecuteTime": {
     "end_time": "2022-05-07T20:52:05.099636Z",
     "start_time": "2022-05-07T20:52:05.085406Z"
    }
   },
   "outputs": [
    {
     "data": {
      "text/plain": [
       "{'This': 4,\n",
       " 'is': 2,\n",
       " 'a': 1,\n",
       " 'very': 4,\n",
       " 'tiny': 4,\n",
       " 'corpus': 6,\n",
       " '.': 1,\n",
       " 'But': 3,\n",
       " 'at': 2,\n",
       " 'least': 5,\n",
       " 'this': 4,\n",
       " 'has': 3,\n",
       " 'second': 6,\n",
       " 'sentence': 8}"
      ]
     },
     "execution_count": 19,
     "metadata": {},
     "output_type": "execute_result"
    }
   ],
   "source": [
    "# we can assign values to keys with dict_variable[key] = value\n",
    "for token in tokens:\n",
    "    token_lengths[token] = len(token)\n",
    "\n",
    "token_lengths"
   ]
  },
  {
   "cell_type": "code",
   "execution_count": 20,
   "id": "5ecdcddd",
   "metadata": {
    "ExecuteTime": {
     "end_time": "2022-05-07T20:52:05.119905Z",
     "start_time": "2022-05-07T20:52:05.103451Z"
    }
   },
   "outputs": [
    {
     "data": {
      "text/plain": [
       "{'This': 1,\n",
       " 'is': 1,\n",
       " 'a': 2,\n",
       " 'very': 1,\n",
       " 'tiny': 2,\n",
       " 'corpus': 2,\n",
       " '.': 2,\n",
       " 'But': 1,\n",
       " 'at': 1,\n",
       " 'least': 1,\n",
       " 'this': 1,\n",
       " 'has': 1,\n",
       " 'second': 1,\n",
       " 'sentence': 1}"
      ]
     },
     "execution_count": 20,
     "metadata": {},
     "output_type": "execute_result"
    }
   ],
   "source": [
    "# let's write a simple counter for the token frequencies of our corpus\n",
    "counter = {}\n",
    "for token in tokens:\n",
    "    # check if we have already seen this token\n",
    "    if token in counter:\n",
    "        counter[token] += 1\n",
    "    # if not (we see this token for the first time):\n",
    "    else:\n",
    "        counter[token] = 1\n",
    "\n",
    "counter"
   ]
  },
  {
   "cell_type": "code",
   "execution_count": 21,
   "id": "98ca4bfb",
   "metadata": {
    "ExecuteTime": {
     "end_time": "2022-05-07T20:52:05.146686Z",
     "start_time": "2022-05-07T20:52:05.123285Z"
    }
   },
   "outputs": [
    {
     "data": {
      "text/plain": [
       "{'This': 1,\n",
       " 'is': 1,\n",
       " 'a': 2,\n",
       " 'very': 1,\n",
       " 'tiny': 2,\n",
       " 'corpus': 2,\n",
       " '.': 2,\n",
       " 'But': 1,\n",
       " 'at': 1,\n",
       " 'least': 1,\n",
       " 'this': 1,\n",
       " 'has': 1,\n",
       " 'second': 1,\n",
       " 'sentence': 1}"
      ]
     },
     "execution_count": 21,
     "metadata": {},
     "output_type": "execute_result"
    }
   ],
   "source": [
    "# often programming tasks can be solved in more than one way\n",
    "counter = {}\n",
    "for token in tokens:\n",
    "    if not token in counter:\n",
    "        counter[token] = 0\n",
    "    counter[token] += 1\n",
    "\n",
    "counter"
   ]
  },
  {
   "cell_type": "code",
   "execution_count": 22,
   "id": "00caa7b5",
   "metadata": {
    "ExecuteTime": {
     "end_time": "2022-05-07T20:52:05.157243Z",
     "start_time": "2022-05-07T20:52:05.149692Z"
    }
   },
   "outputs": [],
   "source": [
    "# for many problems code already exists, which can be imported\n",
    "# from built-in or external Python modules\n",
    "from collections import Counter"
   ]
  },
  {
   "cell_type": "code",
   "execution_count": 23,
   "id": "869ce186",
   "metadata": {
    "ExecuteTime": {
     "end_time": "2022-05-07T20:52:05.170443Z",
     "start_time": "2022-05-07T20:52:05.160632Z"
    }
   },
   "outputs": [
    {
     "data": {
      "text/plain": [
       "Counter({'This': 1,\n",
       "         'is': 1,\n",
       "         'a': 2,\n",
       "         'very': 1,\n",
       "         'tiny': 2,\n",
       "         'corpus': 2,\n",
       "         '.': 2,\n",
       "         'But': 1,\n",
       "         'at': 1,\n",
       "         'least': 1,\n",
       "         'this': 1,\n",
       "         'has': 1,\n",
       "         'second': 1,\n",
       "         'sentence': 1})"
      ]
     },
     "execution_count": 23,
     "metadata": {},
     "output_type": "execute_result"
    }
   ],
   "source": [
    "# well, that's shorter...\n",
    "Counter(tokens)"
   ]
  },
  {
   "cell_type": "code",
   "execution_count": 24,
   "id": "40803960",
   "metadata": {
    "ExecuteTime": {
     "end_time": "2022-05-07T20:52:05.185932Z",
     "start_time": "2022-05-07T20:52:05.173691Z"
    }
   },
   "outputs": [
    {
     "data": {
      "text/plain": [
       "collections.Counter"
      ]
     },
     "execution_count": 24,
     "metadata": {},
     "output_type": "execute_result"
    }
   ],
   "source": [
    "type(Counter(tokens))"
   ]
  },
  {
   "cell_type": "code",
   "execution_count": 25,
   "id": "14ef29c5",
   "metadata": {
    "ExecuteTime": {
     "end_time": "2022-05-07T20:52:05.205428Z",
     "start_time": "2022-05-07T20:52:05.190550Z"
    }
   },
   "outputs": [
    {
     "data": {
      "text/plain": [
       "[('a', 2),\n",
       " ('tiny', 2),\n",
       " ('corpus', 2),\n",
       " ('.', 2),\n",
       " ('This', 1),\n",
       " ('is', 1),\n",
       " ('very', 1),\n",
       " ('But', 1),\n",
       " ('at', 1),\n",
       " ('least', 1),\n",
       " ('this', 1),\n",
       " ('has', 1),\n",
       " ('second', 1),\n",
       " ('sentence', 1)]"
      ]
     },
     "execution_count": 25,
     "metadata": {},
     "output_type": "execute_result"
    }
   ],
   "source": [
    "# we can use the most_common() method of Counter\n",
    "# to sort our token frequencies\n",
    "Counter(tokens).most_common()"
   ]
  },
  {
   "cell_type": "code",
   "execution_count": null,
   "id": "8bf8485e",
   "metadata": {},
   "outputs": [],
   "source": []
  }
 ],
 "metadata": {
  "kernelspec": {
   "display_name": "Python 3 (ipykernel)",
   "language": "python",
   "name": "python3"
  },
  "language_info": {
   "codemirror_mode": {
    "name": "ipython",
    "version": 3
   },
   "file_extension": ".py",
   "mimetype": "text/x-python",
   "name": "python",
   "nbconvert_exporter": "python",
   "pygments_lexer": "ipython3",
   "version": "3.9.5"
  }
 },
 "nbformat": 4,
 "nbformat_minor": 5
}
