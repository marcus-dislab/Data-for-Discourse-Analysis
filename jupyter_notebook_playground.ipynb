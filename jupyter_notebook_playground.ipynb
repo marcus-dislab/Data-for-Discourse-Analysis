{
 "cells": [
  {
   "cell_type": "markdown",
   "id": "73bdb9dd",
   "metadata": {},
   "source": [
    "## Python basics\n",
    "<br>"
   ]
  },
  {
   "cell_type": "code",
   "execution_count": 1,
   "id": "53cd791d",
   "metadata": {
    "ExecuteTime": {
     "end_time": "2022-05-11T07:32:37.060361Z",
     "start_time": "2022-05-11T07:32:37.037496Z"
    }
   },
   "outputs": [],
   "source": [
    "# the basis: variable assignment\n",
    "corpus = \"This is a very tiny corpus. But at least this tiny corpus has a second sentence.\""
   ]
  },
  {
   "cell_type": "code",
   "execution_count": 2,
   "id": "ef160a1a",
   "metadata": {
    "ExecuteTime": {
     "end_time": "2022-05-11T07:32:37.962678Z",
     "start_time": "2022-05-11T07:32:37.937748Z"
    }
   },
   "outputs": [
    {
     "name": "stdout",
     "output_type": "stream",
     "text": [
      "This is a very tiny corpus. But at least this tiny corpus has a second sentence.\n"
     ]
    }
   ],
   "source": [
    "# check the content of a variable\n",
    "print(corpus)"
   ]
  },
  {
   "cell_type": "code",
   "execution_count": 3,
   "id": "c218dec5",
   "metadata": {
    "ExecuteTime": {
     "end_time": "2022-05-11T07:32:38.678716Z",
     "start_time": "2022-05-11T07:32:38.663020Z"
    }
   },
   "outputs": [
    {
     "data": {
      "text/plain": [
       "'This is a very tiny corpus. But at least this tiny corpus has a second sentence.'"
      ]
     },
     "execution_count": 3,
     "metadata": {},
     "output_type": "execute_result"
    }
   ],
   "source": [
    "# in jupyter notebooks that's enough to print a variable - if it's the last row of a cell\n",
    "corpus"
   ]
  },
  {
   "cell_type": "code",
   "execution_count": 4,
   "id": "6786a62d",
   "metadata": {
    "ExecuteTime": {
     "end_time": "2022-05-11T07:32:39.351816Z",
     "start_time": "2022-05-11T07:32:39.330962Z"
    }
   },
   "outputs": [
    {
     "data": {
      "text/plain": [
       "str"
      ]
     },
     "execution_count": 4,
     "metadata": {},
     "output_type": "execute_result"
    }
   ],
   "source": [
    "# check the data type of any Python object (everything is an object in Python)\n",
    "type(corpus)"
   ]
  },
  {
   "cell_type": "code",
   "execution_count": 5,
   "id": "dec00201",
   "metadata": {
    "ExecuteTime": {
     "end_time": "2022-05-11T07:32:39.907166Z",
     "start_time": "2022-05-11T07:32:39.895180Z"
    }
   },
   "outputs": [
    {
     "data": {
      "text/plain": [
       "['This',\n",
       " 'is',\n",
       " 'a',\n",
       " 'very',\n",
       " 'tiny',\n",
       " 'corpus.',\n",
       " 'But',\n",
       " 'at',\n",
       " 'least',\n",
       " 'this',\n",
       " 'tiny',\n",
       " 'corpus',\n",
       " 'has',\n",
       " 'a',\n",
       " 'second',\n",
       " 'sentence.']"
      ]
     },
     "execution_count": 5,
     "metadata": {},
     "output_type": "execute_result"
    }
   ],
   "source": [
    "# objects / data types have their own methods\n",
    "tokens = corpus.split()\n",
    "tokens"
   ]
  },
  {
   "cell_type": "code",
   "execution_count": 6,
   "id": "a6dc4c4a",
   "metadata": {
    "ExecuteTime": {
     "end_time": "2022-05-11T07:32:40.412054Z",
     "start_time": "2022-05-11T07:32:40.402087Z"
    }
   },
   "outputs": [
    {
     "data": {
      "text/plain": [
       "list"
      ]
     },
     "execution_count": 6,
     "metadata": {},
     "output_type": "execute_result"
    }
   ],
   "source": [
    "# split() returns a list (as indicated by the square brackets)\n",
    "type(tokens)"
   ]
  },
  {
   "cell_type": "code",
   "execution_count": 7,
   "id": "fa93be99",
   "metadata": {
    "ExecuteTime": {
     "end_time": "2022-05-11T07:32:40.915332Z",
     "start_time": "2022-05-11T07:32:40.905904Z"
    }
   },
   "outputs": [
    {
     "data": {
      "text/plain": [
       "'is'"
      ]
     },
     "execution_count": 7,
     "metadata": {},
     "output_type": "execute_result"
    }
   ],
   "source": [
    "# iterable/sequential data types support selection and operations based on index positions\n",
    "tokens[1]"
   ]
  },
  {
   "cell_type": "code",
   "execution_count": 8,
   "id": "159d0a62",
   "metadata": {
    "ExecuteTime": {
     "end_time": "2022-05-11T07:32:41.506523Z",
     "start_time": "2022-05-11T07:32:41.486498Z"
    }
   },
   "outputs": [
    {
     "data": {
      "text/plain": [
       "['This', str]"
      ]
     },
     "execution_count": 8,
     "metadata": {},
     "output_type": "execute_result"
    }
   ],
   "source": [
    "# operations can be nested and/or concatenated\n",
    "[tokens[0], type(tokens[0])]"
   ]
  },
  {
   "cell_type": "code",
   "execution_count": 9,
   "id": "5b0d3d05",
   "metadata": {
    "ExecuteTime": {
     "end_time": "2022-05-11T07:32:41.896243Z",
     "start_time": "2022-05-11T07:32:41.887715Z"
    }
   },
   "outputs": [
    {
     "data": {
      "text/plain": [
       "'T'"
      ]
     },
     "execution_count": 9,
     "metadata": {},
     "output_type": "execute_result"
    }
   ],
   "source": [
    "# strings are iterable too\n",
    "corpus[0]"
   ]
  },
  {
   "cell_type": "code",
   "execution_count": 10,
   "id": "621cfe83",
   "metadata": {
    "ExecuteTime": {
     "end_time": "2022-05-11T07:32:42.333831Z",
     "start_time": "2022-05-11T07:32:42.324863Z"
    }
   },
   "outputs": [
    {
     "data": {
      "text/plain": [
       "'This is a very tiny corpus . But at least this tiny corpus has a second sentence .'"
      ]
     },
     "execution_count": 10,
     "metadata": {},
     "output_type": "execute_result"
    }
   ],
   "source": [
    "# use the \"replace\" method to improve our tokenization on whitespace\n",
    "corpus = corpus.replace(\".\", \" .\")\n",
    "corpus"
   ]
  },
  {
   "cell_type": "code",
   "execution_count": 11,
   "id": "df8b664b",
   "metadata": {
    "ExecuteTime": {
     "end_time": "2022-05-11T07:32:43.292966Z",
     "start_time": "2022-05-11T07:32:43.271974Z"
    }
   },
   "outputs": [
    {
     "data": {
      "text/plain": [
       "['This',\n",
       " 'is',\n",
       " 'a',\n",
       " 'very',\n",
       " 'tiny',\n",
       " 'corpus',\n",
       " '.',\n",
       " 'But',\n",
       " 'at',\n",
       " 'least',\n",
       " 'this',\n",
       " 'tiny',\n",
       " 'corpus',\n",
       " 'has',\n",
       " 'a',\n",
       " 'second',\n",
       " 'sentence',\n",
       " '.']"
      ]
     },
     "execution_count": 11,
     "metadata": {},
     "output_type": "execute_result"
    }
   ],
   "source": [
    "# now the punctuation gets splitted correctly\n",
    "tokens = corpus.split()\n",
    "tokens"
   ]
  },
  {
   "cell_type": "code",
   "execution_count": 12,
   "id": "3f7d46d2",
   "metadata": {
    "ExecuteTime": {
     "end_time": "2022-05-11T07:32:43.715198Z",
     "start_time": "2022-05-11T07:32:43.706192Z"
    }
   },
   "outputs": [
    {
     "data": {
      "text/plain": [
       "18"
      ]
     },
     "execution_count": 12,
     "metadata": {},
     "output_type": "execute_result"
    }
   ],
   "source": [
    "# the built-in method len() calculates the length of iterable data types\n",
    "token_count = len(tokens)\n",
    "token_count"
   ]
  },
  {
   "cell_type": "code",
   "execution_count": 13,
   "id": "7b721e09",
   "metadata": {
    "ExecuteTime": {
     "end_time": "2022-05-11T07:32:44.828595Z",
     "start_time": "2022-05-11T07:32:44.807172Z"
    }
   },
   "outputs": [
    {
     "data": {
      "text/plain": [
       "int"
      ]
     },
     "execution_count": 13,
     "metadata": {},
     "output_type": "execute_result"
    }
   ],
   "source": [
    "# token_count is an integer object\n",
    "type(token_count)"
   ]
  },
  {
   "cell_type": "code",
   "execution_count": 14,
   "id": "86376e8b",
   "metadata": {
    "ExecuteTime": {
     "end_time": "2022-05-11T07:32:45.552213Z",
     "start_time": "2022-05-11T07:32:45.535177Z"
    }
   },
   "outputs": [
    {
     "data": {
      "text/plain": [
       "82"
      ]
     },
     "execution_count": 14,
     "metadata": {},
     "output_type": "execute_result"
    }
   ],
   "source": [
    "# now we know that our corpus consists of 18 tokens and 82 characters\n",
    "char_count = len(corpus)\n",
    "char_count"
   ]
  },
  {
   "cell_type": "code",
   "execution_count": 15,
   "id": "c5e70014",
   "metadata": {
    "ExecuteTime": {
     "end_time": "2022-05-11T07:32:46.052461Z",
     "start_time": "2022-05-11T07:32:46.043425Z"
    }
   },
   "outputs": [
    {
     "name": "stdout",
     "output_type": "stream",
     "text": [
      "token:\tThis\n",
      "token:\tis\n",
      "token:\ta\n",
      "token:\tvery\n",
      "token:\ttiny\n",
      "token:\tcorpus\n",
      "token:\t.\n",
      "token:\tBut\n",
      "token:\tat\n",
      "token:\tleast\n",
      "token:\tthis\n",
      "token:\ttiny\n",
      "token:\tcorpus\n",
      "token:\thas\n",
      "token:\ta\n",
      "token:\tsecond\n",
      "token:\tsentence\n",
      "token:\t.\n"
     ]
    }
   ],
   "source": [
    "# with a for-loop we can access every item in a list or in other iterable data types\n",
    "for token in tokens:\n",
    "    print(\"token:\\t\" + token) # strings can be concatenated\n",
    "    #print(f\"token:\\t{token}\") # the f-string syntax does the trick as well"
   ]
  },
  {
   "cell_type": "code",
   "execution_count": 16,
   "id": "dbe302a0",
   "metadata": {
    "ExecuteTime": {
     "end_time": "2022-05-11T07:32:50.814238Z",
     "start_time": "2022-05-11T07:32:50.809155Z"
    }
   },
   "outputs": [
    {
     "data": {
      "text/plain": [
       "['This is a very tiny corpus ',\n",
       " ' But at least this tiny corpus has a second sentence ',\n",
       " '']"
      ]
     },
     "execution_count": 16,
     "metadata": {},
     "output_type": "execute_result"
    }
   ],
   "source": [
    "# let's get the sentences of our corpus\n",
    "sentences = corpus.split(\".\")\n",
    "sentences"
   ]
  },
  {
   "cell_type": "code",
   "execution_count": 17,
   "id": "ba4e8cf3",
   "metadata": {
    "ExecuteTime": {
     "end_time": "2022-05-11T07:32:51.468958Z",
     "start_time": "2022-05-11T07:32:51.449673Z"
    }
   },
   "outputs": [
    {
     "data": {
      "text/plain": [
       "['This is a very tiny corpus .',\n",
       " 'But at least this tiny corpus has a second sentence .']"
      ]
     },
     "execution_count": 17,
     "metadata": {},
     "output_type": "execute_result"
    }
   ],
   "source": [
    "# we have two tasks: get rid of the empty string and\n",
    "# append the punctuation back to the sentences\n",
    "sentences_stripped = []\n",
    "for sentence in sentences:\n",
    "    sentence = sentence.strip()\n",
    "    # with conditions we can check if a statement is true or false\n",
    "    if not sentence == \"\":\n",
    "        sentence += \" .\"\n",
    "        sentences_stripped.append(sentence)\n",
    "\n",
    "sentences_stripped"
   ]
  },
  {
   "cell_type": "code",
   "execution_count": 18,
   "id": "29031b9d",
   "metadata": {
    "ExecuteTime": {
     "end_time": "2022-05-11T07:32:52.024100Z",
     "start_time": "2022-05-11T07:32:52.003889Z"
    }
   },
   "outputs": [
    {
     "data": {
      "text/plain": [
       "dict"
      ]
     },
     "execution_count": 18,
     "metadata": {},
     "output_type": "execute_result"
    }
   ],
   "source": [
    "# dicts provide a mapping between keys and values\n",
    "token_lengths = {}\n",
    "type(token_lengths)"
   ]
  },
  {
   "cell_type": "code",
   "execution_count": 19,
   "id": "c79dd5ea",
   "metadata": {
    "ExecuteTime": {
     "end_time": "2022-05-11T07:32:52.734910Z",
     "start_time": "2022-05-11T07:32:52.714915Z"
    }
   },
   "outputs": [
    {
     "data": {
      "text/plain": [
       "{'This': 4,\n",
       " 'is': 2,\n",
       " 'a': 1,\n",
       " 'very': 4,\n",
       " 'tiny': 4,\n",
       " 'corpus': 6,\n",
       " '.': 1,\n",
       " 'But': 3,\n",
       " 'at': 2,\n",
       " 'least': 5,\n",
       " 'this': 4,\n",
       " 'has': 3,\n",
       " 'second': 6,\n",
       " 'sentence': 8}"
      ]
     },
     "execution_count": 19,
     "metadata": {},
     "output_type": "execute_result"
    }
   ],
   "source": [
    "# we can assign values to keys with dict_variable[key] = value\n",
    "for token in tokens:\n",
    "    token_lengths[token] = len(token)\n",
    "\n",
    "token_lengths"
   ]
  },
  {
   "cell_type": "code",
   "execution_count": 20,
   "id": "5ecdcddd",
   "metadata": {
    "ExecuteTime": {
     "end_time": "2022-05-11T07:32:55.253187Z",
     "start_time": "2022-05-11T07:32:55.231851Z"
    }
   },
   "outputs": [
    {
     "data": {
      "text/plain": [
       "{'This': 1,\n",
       " 'is': 1,\n",
       " 'a': 2,\n",
       " 'very': 1,\n",
       " 'tiny': 2,\n",
       " 'corpus': 2,\n",
       " '.': 2,\n",
       " 'But': 1,\n",
       " 'at': 1,\n",
       " 'least': 1,\n",
       " 'this': 1,\n",
       " 'has': 1,\n",
       " 'second': 1,\n",
       " 'sentence': 1}"
      ]
     },
     "execution_count": 20,
     "metadata": {},
     "output_type": "execute_result"
    }
   ],
   "source": [
    "# let's write a simple counter for the token frequencies of our corpus\n",
    "counter = {}\n",
    "for token in tokens:\n",
    "    # check if we have already seen this token\n",
    "    if token in counter:\n",
    "        counter[token] += 1\n",
    "    # if not (we see this token for the first time):\n",
    "    else:\n",
    "        counter[token] = 1\n",
    "\n",
    "counter"
   ]
  },
  {
   "cell_type": "code",
   "execution_count": 21,
   "id": "98ca4bfb",
   "metadata": {
    "ExecuteTime": {
     "end_time": "2022-05-11T07:32:57.883764Z",
     "start_time": "2022-05-11T07:32:57.862851Z"
    }
   },
   "outputs": [
    {
     "data": {
      "text/plain": [
       "{'This': 1,\n",
       " 'is': 1,\n",
       " 'a': 2,\n",
       " 'very': 1,\n",
       " 'tiny': 2,\n",
       " 'corpus': 2,\n",
       " '.': 2,\n",
       " 'But': 1,\n",
       " 'at': 1,\n",
       " 'least': 1,\n",
       " 'this': 1,\n",
       " 'has': 1,\n",
       " 'second': 1,\n",
       " 'sentence': 1}"
      ]
     },
     "execution_count": 21,
     "metadata": {},
     "output_type": "execute_result"
    }
   ],
   "source": [
    "# often programming tasks can be solved in more than one way\n",
    "counter = {}\n",
    "for token in tokens:\n",
    "    if not token in counter:\n",
    "        counter[token] = 0\n",
    "    counter[token] += 1\n",
    "\n",
    "counter"
   ]
  },
  {
   "cell_type": "code",
   "execution_count": 22,
   "id": "00caa7b5",
   "metadata": {
    "ExecuteTime": {
     "end_time": "2022-05-11T07:32:58.932913Z",
     "start_time": "2022-05-11T07:32:58.924724Z"
    }
   },
   "outputs": [],
   "source": [
    "# for many problems code already exists, which can be imported\n",
    "# from built-in or external Python modules\n",
    "from collections import Counter"
   ]
  },
  {
   "cell_type": "code",
   "execution_count": 23,
   "id": "869ce186",
   "metadata": {
    "ExecuteTime": {
     "end_time": "2022-05-11T07:33:02.459610Z",
     "start_time": "2022-05-11T07:33:02.435232Z"
    }
   },
   "outputs": [
    {
     "data": {
      "text/plain": [
       "Counter({'This': 1,\n",
       "         'is': 1,\n",
       "         'a': 2,\n",
       "         'very': 1,\n",
       "         'tiny': 2,\n",
       "         'corpus': 2,\n",
       "         '.': 2,\n",
       "         'But': 1,\n",
       "         'at': 1,\n",
       "         'least': 1,\n",
       "         'this': 1,\n",
       "         'has': 1,\n",
       "         'second': 1,\n",
       "         'sentence': 1})"
      ]
     },
     "execution_count": 23,
     "metadata": {},
     "output_type": "execute_result"
    }
   ],
   "source": [
    "# well, that's shorter...\n",
    "Counter(tokens)"
   ]
  },
  {
   "cell_type": "code",
   "execution_count": 24,
   "id": "40803960",
   "metadata": {
    "ExecuteTime": {
     "end_time": "2022-05-11T07:33:03.462638Z",
     "start_time": "2022-05-11T07:33:03.449643Z"
    }
   },
   "outputs": [
    {
     "data": {
      "text/plain": [
       "collections.Counter"
      ]
     },
     "execution_count": 24,
     "metadata": {},
     "output_type": "execute_result"
    }
   ],
   "source": [
    "type(Counter(tokens))"
   ]
  },
  {
   "cell_type": "code",
   "execution_count": 25,
   "id": "14ef29c5",
   "metadata": {
    "ExecuteTime": {
     "end_time": "2022-05-11T07:33:05.766332Z",
     "start_time": "2022-05-11T07:33:05.742007Z"
    }
   },
   "outputs": [
    {
     "data": {
      "text/plain": [
       "[('a', 2),\n",
       " ('tiny', 2),\n",
       " ('corpus', 2),\n",
       " ('.', 2),\n",
       " ('This', 1),\n",
       " ('is', 1),\n",
       " ('very', 1),\n",
       " ('But', 1),\n",
       " ('at', 1),\n",
       " ('least', 1),\n",
       " ('this', 1),\n",
       " ('has', 1),\n",
       " ('second', 1),\n",
       " ('sentence', 1)]"
      ]
     },
     "execution_count": 25,
     "metadata": {},
     "output_type": "execute_result"
    }
   ],
   "source": [
    "# we can use the most_common() method of Counter\n",
    "# to sort our token frequencies\n",
    "Counter(tokens).most_common()"
   ]
  },
  {
   "cell_type": "markdown",
   "id": "fd08af4f",
   "metadata": {},
   "source": [
    "<br><br>\n",
    "## spaCy\n",
    "<br>"
   ]
  },
  {
   "cell_type": "code",
   "execution_count": null,
   "id": "3a110f25",
   "metadata": {},
   "outputs": [],
   "source": [
    "import spacy"
   ]
  },
  {
   "cell_type": "code",
   "execution_count": null,
   "id": "02050482",
   "metadata": {},
   "outputs": [],
   "source": [
    "spacy_corpus = \"Mary Lou McDonald grew up in a republican household in Dublin to a backdrop of the Troubles in Northern Ireland. \\\"My family's connections with the IRA would have been in the 1920s,\\\" she says.\""
   ]
  },
  {
   "cell_type": "code",
   "execution_count": null,
   "id": "0beefc82",
   "metadata": {},
   "outputs": [],
   "source": [
    "nlp = spacy.load(\"en_core_web_sm\")"
   ]
  },
  {
   "cell_type": "code",
   "execution_count": null,
   "id": "31f36586",
   "metadata": {},
   "outputs": [],
   "source": [
    "doc = nlp(spacy_corpus)"
   ]
  },
  {
   "cell_type": "code",
   "execution_count": null,
   "id": "aeb3c34a",
   "metadata": {},
   "outputs": [],
   "source": [
    "len(doc)"
   ]
  },
  {
   "cell_type": "code",
   "execution_count": null,
   "id": "56ef0c9c",
   "metadata": {},
   "outputs": [],
   "source": [
    "type(doc[0])"
   ]
  },
  {
   "cell_type": "code",
   "execution_count": null,
   "id": "23780e6d",
   "metadata": {},
   "outputs": [],
   "source": [
    "for token in doc:\n",
    "    print(token.text)\n",
    "    #print(token.text, token.pos_)\n",
    "    #print(token.text, token.tag_)\n",
    "    #print(token.text, token.lemma_)\n",
    "    #print(token.text, token.morph)\n",
    "    #print(token.text, token.ent_type_)\n",
    "    #print(token.text, token.ent_iob_)"
   ]
  },
  {
   "cell_type": "code",
   "execution_count": null,
   "id": "09080ead",
   "metadata": {},
   "outputs": [],
   "source": [
    "spacy.explain(\"NORP\")"
   ]
  },
  {
   "cell_type": "code",
   "execution_count": null,
   "id": "e7b21ead",
   "metadata": {},
   "outputs": [],
   "source": [
    "for sentence in doc.sents:\n",
    "    print(sent)"
   ]
  },
  {
   "cell_type": "code",
   "execution_count": null,
   "id": "88114017",
   "metadata": {},
   "outputs": [],
   "source": [
    "for entity in doc.ents:\n",
    "    print(entity)"
   ]
  },
  {
   "cell_type": "code",
   "execution_count": null,
   "id": "2682b5da",
   "metadata": {},
   "outputs": [],
   "source": [
    "type(doc.ents[0])"
   ]
  },
  {
   "cell_type": "code",
   "execution_count": null,
   "id": "e6bcc949",
   "metadata": {},
   "outputs": [],
   "source": [
    "vrt = \"<text>\\n\"\n",
    "for sentence in doc.sents:\n",
    "    vrt += \"<s>\\n\"\n",
    "    entity = False\n",
    "    for token in sentence:\n",
    "        if entity == False and token.ent_iob_ == \"B\":\n",
    "            entity = True\n",
    "            vrt += f\"<entity type=\\\"{token.ent_type_}\\\">\\n\"\n",
    "        elif entity == True and not token.ent_iob_ == \"I\":\n",
    "            entity = False\n",
    "            vrt += \"</entity type>\\n\"\n",
    "        vrt += \"\\t\".join((token.text, token.pos_, token.lemma_, str(token.morph), token.ent_type_, token.ent_iob_)) + \"\\n\"\n",
    "    vrt += \"</s>\\n\"\n",
    "vrt += \"</text>\\n\"\n",
    "\n",
    "print(vrt)"
   ]
  },
  {
   "cell_type": "code",
   "execution_count": null,
   "id": "921254f3",
   "metadata": {},
   "outputs": [],
   "source": []
  }
 ],
 "metadata": {
  "kernelspec": {
   "display_name": "Python 3 (ipykernel)",
   "language": "python",
   "name": "python3"
  },
  "language_info": {
   "codemirror_mode": {
    "name": "ipython",
    "version": 3
   },
   "file_extension": ".py",
   "mimetype": "text/x-python",
   "name": "python",
   "nbconvert_exporter": "python",
   "pygments_lexer": "ipython3",
   "version": "3.9.5"
  }
 },
 "nbformat": 4,
 "nbformat_minor": 5
}
