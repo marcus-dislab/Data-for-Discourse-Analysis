{
 "cells": [
  {
   "cell_type": "markdown",
   "id": "4f46d82a",
   "metadata": {},
   "source": [
    "<br/><br/>\n",
    "TU Darmstadt<br/>\n",
    "Summer Term 2022<br/>\n",
    "Linguistic Data for Discourse Analysis<br/>\n",
    "Prof. Marcus Müller / Daniel Wachter<br/><br/>\n",
    "<center><h1>Assignment II</h1></center>\n",
    "<br/><div style=\"text-align: right\"><b>Submission deadline:</b> 5th of July 23.59</div>\n",
    "<div style=\"text-align: right\">Please submit the notebook as .ipynb file in the moodle course</div>"
   ]
  },
  {
   "cell_type": "markdown",
   "id": "c9900e7d",
   "metadata": {
    "ExecuteTime": {
     "end_time": "2022-04-26T18:17:15.332053Z",
     "start_time": "2022-04-26T18:17:15.161569Z"
    }
   },
   "source": [
    "### 1. Task: Trafilatura\n",
    "\n",
    "On https://www.voicesofyouth.org/blog young people between the ages of 13 and 24 write blog posts for Unicef about issues they care about. We will use this blog to practice crawling and extracting html data with <i>Trafilatura</i>."
   ]
  },
  {
   "cell_type": "markdown",
   "id": "b1047aa1",
   "metadata": {},
   "source": [
    "**1\\. Download the html of a single blog post and extract its data into xml format. Play with the options you learned about in the session. Which parameters give you the best results? Please describe your findings in two or three sentences.**"
   ]
  },
  {
   "cell_type": "code",
   "execution_count": null,
   "id": "43d2ef29",
   "metadata": {},
   "outputs": [],
   "source": [
    "from xml.dom import minidom\n",
    "import trafilatura\n",
    "\n",
    "from IPython.core.display import display, HTML\n",
    "display(HTML(\"<style>div.output_area pre {white-space: pre;}</style>\"))"
   ]
  },
  {
   "cell_type": "code",
   "execution_count": null,
   "id": "490d3e5b",
   "metadata": {},
   "outputs": [],
   "source": [
    "url = \"https://www.voicesofyouth.org/blog/export-waste-how-it-exacerbates-global-inequalities-and-counterintuitive-fight-climate-action\"\n",
    "\n",
    "# please add code here"
   ]
  },
  {
   "cell_type": "markdown",
   "id": "6e3a1bb8",
   "metadata": {},
   "source": [
    "<br/><br/>\n",
    "**2\\. Now crawl the blog homepage in order to find the urls of other blog posts. Please print out the sorted and filtered list of blog post urls as a result. Please find at least 30 blog posts.**"
   ]
  },
  {
   "cell_type": "code",
   "execution_count": null,
   "id": "986ff177",
   "metadata": {},
   "outputs": [],
   "source": [
    "from trafilatura.spider import focused_crawler"
   ]
  },
  {
   "cell_type": "code",
   "execution_count": null,
   "id": "2e636d91",
   "metadata": {},
   "outputs": [],
   "source": [
    "homepage = \"https://www.voicesofyouth.org/blog\"\n",
    "\n",
    "# please add code here"
   ]
  },
  {
   "cell_type": "markdown",
   "id": "5e2f994e",
   "metadata": {},
   "source": [
    "<br><br>\n",
    "### 2. Task: Data analysis and visualisation\n",
    "\n",
    "In this task we will recap the most basic visualisation methods for corpus frequency distributions with the Python package <i>Plotly</i>."
   ]
  },
  {
   "cell_type": "code",
   "execution_count": null,
   "id": "061cba4e",
   "metadata": {},
   "outputs": [],
   "source": [
    "from collections import Counter\n",
    "from pathlib import Path\n",
    "import xml.etree.ElementTree as ET\n",
    "\n",
    "import spacy\n",
    "import plotly.graph_objects as go\n",
    "from plotly.subplots import make_subplots"
   ]
  },
  {
   "cell_type": "code",
   "execution_count": null,
   "id": "dc0ad5bf",
   "metadata": {},
   "outputs": [],
   "source": [
    "# first we load the corpus into our notebook and transform the data into a dict data structure\n",
    "corpus = Path(\"../nexis_corpus\").rglob(\"*.xml\")\n",
    "\n",
    "articles = []\n",
    "for newspaper in corpus:\n",
    "    xml_tree = ET.parse(str(newspaper))\n",
    "    doc_elements = xml_tree.findall(\"document\")\n",
    "    \n",
    "    for doc in doc_elements:\n",
    "        articles.append(\n",
    "            {\n",
    "                \"newspaper\": doc.find(\"metadata/source\").text,\n",
    "                \"text\": \" \".join([paragraph.strip() for paragraph in doc.find(\"text\").itertext()]).strip(),\n",
    "            }\n",
    "        )\n",
    "\n",
    "articles[:3]"
   ]
  },
  {
   "cell_type": "markdown",
   "id": "b6672a51",
   "metadata": {},
   "source": [
    "<br/><br/>\n",
    "**1\\. Annotate the loaded corpus with spaCy.**"
   ]
  },
  {
   "cell_type": "code",
   "execution_count": null,
   "id": "75950dd9",
   "metadata": {},
   "outputs": [],
   "source": [
    "nlp = spacy.load(\"en_core_web_sm\")\n",
    "\n",
    "# please add code here"
   ]
  },
  {
   "cell_type": "markdown",
   "id": "9619ced9",
   "metadata": {},
   "source": [
    "<br/><br/>\n",
    "**2\\. Now compile a frequency list and plot it as Zipf distribution as shown in the session - please refer to the <u>token</u> level. Compare your results with the distribution of lemmata (cf. the session's results). Write two sentences about the differences and discuss the applicability of each graph.**"
   ]
  },
  {
   "cell_type": "code",
   "execution_count": null,
   "id": "0835955e",
   "metadata": {},
   "outputs": [],
   "source": [
    "tokens = [token for article in articles for token in article[\"tagged\"] if not token.is_space]\n",
    "\n",
    "# please add code here"
   ]
  },
  {
   "cell_type": "markdown",
   "id": "e61febc9",
   "metadata": {},
   "source": [
    "<br/><br/>\n",
    "**3\\. Please discuss the pros and cons of bar charts vs. pie charts (max. 100 words).**"
   ]
  },
  {
   "cell_type": "markdown",
   "id": "85ce9135",
   "metadata": {},
   "source": []
  }
 ],
 "metadata": {
  "kernelspec": {
   "display_name": "Python 3 (ipykernel)",
   "language": "python",
   "name": "python3"
  },
  "language_info": {
   "codemirror_mode": {
    "name": "ipython",
    "version": 3
   },
   "file_extension": ".py",
   "mimetype": "text/x-python",
   "name": "python",
   "nbconvert_exporter": "python",
   "pygments_lexer": "ipython3",
   "version": "3.9.5"
  }
 },
 "nbformat": 4,
 "nbformat_minor": 5
}
