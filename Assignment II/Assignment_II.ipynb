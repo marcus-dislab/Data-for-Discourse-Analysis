{
 "cells": [
  {
   "cell_type": "markdown",
   "id": "4f46d82a",
   "metadata": {},
   "source": [
    "<br/><br/>\n",
    "TU Darmstadt<br/>\n",
    "Summer Term 2022<br/>\n",
    "Linguistic Data for Discourse Analysis<br/>\n",
    "Prof. Marcus Müller / Daniel Wachter<br/><br/>\n",
    "<center><h1>Assignment II</h1></center>\n",
    "<br/><div style=\"text-align: right\"><b>Submission deadline:</b> 5th of July 23.59</div>\n",
    "<div style=\"text-align: right\">Please submit the notebook as .ipynb file in the moodle course</div>"
   ]
  },
  {
   "cell_type": "markdown",
   "id": "c9900e7d",
   "metadata": {
    "ExecuteTime": {
     "end_time": "2022-04-26T18:17:15.332053Z",
     "start_time": "2022-04-26T18:17:15.161569Z"
    }
   },
   "source": [
    "### 1. Task: Trafilatura\n",
    "\n",
    "On https://www.voicesofyouth.org/blog young people between the ages of 13 and 24 write blog posts for Unicef about issues they care about. We will use this blog to practice crawling and extracting html data with <i>Trafilatura</i>."
   ]
  },
  {
   "cell_type": "markdown",
   "id": "3892c02d",
   "metadata": {},
   "source": [
    "**1\\. Download the html of a single blog post and extract its data into xml format. Play with the options you learned about in the session. Which parameters give you the best results? Please describe your findings in two or three sentences.**"
   ]
  },
  {
   "cell_type": "code",
   "execution_count": null,
   "id": "c9a03fa6",
   "metadata": {},
   "outputs": [],
   "source": [
    "from xml.dom import minidom\n",
    "import trafilatura\n",
    "\n",
    "from IPython.core.display import display, HTML\n",
    "display(HTML(\"<style>div.output_area pre {white-space: pre;}</style>\"))"
   ]
  },
  {
   "cell_type": "code",
   "execution_count": null,
   "id": "b71c8f00",
   "metadata": {},
   "outputs": [],
   "source": [
    "url = \"https://www.voicesofyouth.org/blog/export-waste-how-it-exacerbates-global-inequalities-and-counterintuitive-fight-climate-action\"\n",
    "\n",
    "# please add code here"
   ]
  },
  {
   "cell_type": "markdown",
   "id": "8f37f058",
   "metadata": {},
   "source": [
    "<br/><br/>\n",
    "**2\\. Now crawl the the blog homepage in order to find the urls of other blog posts. Please print out the sorted and filtered list of blog post urls as a result. Please find at least 30 blog posts.**"
   ]
  },
  {
   "cell_type": "code",
   "execution_count": null,
   "id": "291e79fb",
   "metadata": {},
   "outputs": [],
   "source": [
    "from trafilatura.spider import focused_crawler"
   ]
  },
  {
   "cell_type": "code",
   "execution_count": null,
   "id": "67352ad9",
   "metadata": {},
   "outputs": [],
   "source": [
    "homepage = \"https://www.voicesofyouth.org/blog\"\n",
    "\n",
    "# please add code here"
   ]
  }
 ],
 "metadata": {
  "kernelspec": {
   "display_name": "Python 3 (ipykernel)",
   "language": "python",
   "name": "python3"
  },
  "language_info": {
   "codemirror_mode": {
    "name": "ipython",
    "version": 3
   },
   "file_extension": ".py",
   "mimetype": "text/x-python",
   "name": "python",
   "nbconvert_exporter": "python",
   "pygments_lexer": "ipython3",
   "version": "3.9.5"
  }
 },
 "nbformat": 4,
 "nbformat_minor": 5
}
